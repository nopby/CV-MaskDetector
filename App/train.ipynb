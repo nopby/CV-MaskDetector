{
  "nbformat": 4,
  "nbformat_minor": 0,
  "metadata": {
    "colab": {
      "name": "train.ipynb",
      "provenance": [],
      "collapsed_sections": []
    },
    "kernelspec": {
      "name": "python3",
      "display_name": "Python 3"
    },
    "language_info": {
      "name": "python"
    },
    "accelerator": "GPU"
  },
  "cells": [
    {
      "cell_type": "code",
      "execution_count": null,
      "metadata": {
        "id": "I4_j_uB0B63B"
      },
      "outputs": [],
      "source": [
        "from tensorflow.keras.preprocessing.image import ImageDataGenerator\n",
        "from tensorflow.keras.applications import MobileNetV2\n",
        "from tensorflow.keras.layers import AveragePooling2D\n",
        "from tensorflow.keras.layers import Dropout\n",
        "from tensorflow.keras.layers import Flatten\n",
        "from tensorflow.keras.layers import Dense\n",
        "from tensorflow.keras.layers import Input\n",
        "from tensorflow.keras.models import Model\n",
        "from tensorflow.keras.optimizers import Adam\n",
        "from tensorflow.keras.applications.mobilenet_v2 import preprocess_input\n",
        "from tensorflow.keras.preprocessing.image import img_to_array\n",
        "from tensorflow.keras.preprocessing.image import load_img\n",
        "from tensorflow.keras.utils import to_categorical\n",
        "from sklearn.preprocessing import LabelBinarizer\n",
        "from sklearn.model_selection import train_test_split\n",
        "from sklearn.metrics import classification_report\n",
        "from imutils import paths\n",
        "import matplotlib.pyplot as plt\n",
        "import numpy as np\n",
        "import os\n",
        "from google.colab import drive"
      ]
    },
    {
      "cell_type": "markdown",
      "source": [
        "LOAD DATASET"
      ],
      "metadata": {
        "id": "CvWwmJy2lrI3"
      }
    },
    {
      "cell_type": "code",
      "source": [
        "# Muat Drive\n",
        "drive.mount('/content/drive')\n",
        "\n",
        "# Muat dataset\n",
        "data = []\n",
        "labels = []\n",
        "DIRECTORY = \"/content/drive/MyDrive/Images/Dataset\"\n",
        "CATEGORIES = [\"Mask\", \"NoMask\"]\n",
        "for category in CATEGORIES:\n",
        "    path = os.path.join(DIRECTORY, category)\n",
        "    for img in os.listdir(path):\n",
        "    \timg_path = os.path.join(path, img)\n",
        "    \timage = load_img(img_path, target_size=(224, 224))\n",
        "    \timage = img_to_array(image)\n",
        "    \timage = preprocess_input(image)\n",
        "\n",
        "    \tdata.append(image)\n",
        "    \tlabels.append(category)\n",
        "\t\t \n",
        "# Ubah format data dan label\n",
        "lb = LabelBinarizer()\n",
        "labels = lb.fit_transform(labels)\n",
        "labels = to_categorical(labels)\n",
        "data = np.array(data, dtype=\"float32\")\n",
        "labels = np.array(labels)"
      ],
      "metadata": {
        "id": "0DqBIsWvCQLl",
        "colab": {
          "base_uri": "https://localhost:8080/"
        },
        "outputId": "5eec8e14-435a-4edc-ee9f-3e0e1fc5b8b1"
      },
      "execution_count": null,
      "outputs": [
        {
          "output_type": "stream",
          "name": "stdout",
          "text": [
            "Mounted at /content/drive\n"
          ]
        }
      ]
    },
    {
      "cell_type": "markdown",
      "source": [
        "TRAIN DATASET"
      ],
      "metadata": {
        "id": "VKk4Mnc8fnKO"
      }
    },
    {
      "cell_type": "code",
      "source": [
        "# Membagi data untuk train dan test\n",
        "(trainX, testX, trainY, testY) = train_test_split(data, labels,\n",
        "\ttest_size=0.20, stratify=labels, random_state=42)\n",
        "\n",
        "# Pembentukan model\n",
        "baseModel = MobileNetV2(weights=\"imagenet\", include_top=False,\n",
        "\tinput_tensor=Input(shape=(224, 224, 3)))\n",
        "headModel = baseModel.output\n",
        "headModel = AveragePooling2D(pool_size=(7, 7))(headModel)\n",
        "headModel = Flatten(name=\"flatten\")(headModel)\n",
        "headModel = Dense(128, activation=\"relu\")(headModel)\n",
        "headModel = Dropout(0.5)(headModel)\n",
        "headModel = Dense(2, activation=\"softmax\")(headModel)\n",
        "\n",
        "model = Model(inputs=baseModel.input, outputs=headModel)\n",
        "\n",
        "# Nilai Learning Rate, Epochs, dan Batch Size\n",
        "LR = 1e-4\n",
        "EPOCHS = 20\n",
        "BS = 32\n",
        "\n",
        "# Initial layer\n",
        "for layer in baseModel.layers:\n",
        "\tlayer.trainable = False\n",
        "\n",
        "# Optimisasi Adam\n",
        "opt = Adam(lr=LR, decay=LR / EPOCHS)\n",
        "\n",
        "# Compile model\n",
        "model.compile(loss=\"binary_crossentropy\", optimizer=opt,\n",
        "\tmetrics=[\"accuracy\"])"
      ],
      "metadata": {
        "id": "BDAFwtwBCUDX",
        "colab": {
          "base_uri": "https://localhost:8080/"
        },
        "outputId": "00f16664-0cec-4186-f48b-43288d9db5a4"
      },
      "execution_count": null,
      "outputs": [
        {
          "output_type": "stream",
          "name": "stdout",
          "text": [
            "WARNING:tensorflow:`input_shape` is undefined or non-square, or `rows` is not in [96, 128, 160, 192, 224]. Weights for input shape (224, 224) will be loaded as the default.\n"
          ]
        },
        {
          "output_type": "stream",
          "name": "stderr",
          "text": [
            "/usr/local/lib/python3.7/dist-packages/keras/optimizer_v2/adam.py:105: UserWarning: The `lr` argument is deprecated, use `learning_rate` instead.\n",
            "  super(Adam, self).__init__(name, **kwargs)\n"
          ]
        }
      ]
    },
    {
      "cell_type": "code",
      "source": [
        "# Augmentasi data\n",
        "aug = ImageDataGenerator(\n",
        "\trotation_range=20,\n",
        "\tzoom_range=0.15,\n",
        "\twidth_shift_range=0.2,\n",
        "\theight_shift_range=0.2,\n",
        "\tshear_range=0.15,\n",
        "\thorizontal_flip=True,\n",
        "\tfill_mode=\"nearest\")\n",
        "\n",
        "# Train model\n",
        "H = model.fit(\n",
        "\taug.flow(trainX, trainY, batch_size=BS),\n",
        "\tsteps_per_epoch=len(trainX) // BS,\n",
        "\tvalidation_data=(testX, testY),\n",
        "\tvalidation_steps=len(testX) // BS,\n",
        "\tepochs=EPOCHS)"
      ],
      "metadata": {
        "id": "4cUT77DdCV23",
        "colab": {
          "base_uri": "https://localhost:8080/"
        },
        "outputId": "c395d5d6-fb46-4f6c-ce00-b5f854b90aa5"
      },
      "execution_count": null,
      "outputs": [
        {
          "output_type": "stream",
          "name": "stdout",
          "text": [
            "Epoch 1/20\n",
            "2/2 [==============================] - 13s 201ms/step - loss: 0.8854 - accuracy: 0.5156\n",
            "Epoch 2/20\n",
            "2/2 [==============================] - 1s 466ms/step - loss: 0.8224 - accuracy: 0.5938\n",
            "Epoch 3/20\n",
            "2/2 [==============================] - 1s 474ms/step - loss: 0.7533 - accuracy: 0.5781\n",
            "Epoch 4/20\n",
            "2/2 [==============================] - 1s 239ms/step - loss: 0.5614 - accuracy: 0.7447\n",
            "Epoch 5/20\n",
            "2/2 [==============================] - 1s 442ms/step - loss: 0.6860 - accuracy: 0.6562\n",
            "Epoch 6/20\n",
            "2/2 [==============================] - 1s 450ms/step - loss: 0.5255 - accuracy: 0.7344\n",
            "Epoch 7/20\n",
            "2/2 [==============================] - 1s 457ms/step - loss: 0.5655 - accuracy: 0.7188\n",
            "Epoch 8/20\n",
            "2/2 [==============================] - 1s 609ms/step - loss: 0.5685 - accuracy: 0.6809\n",
            "Epoch 9/20\n",
            "2/2 [==============================] - 1s 216ms/step - loss: 0.4612 - accuracy: 0.8298\n",
            "Epoch 10/20\n",
            "2/2 [==============================] - 1s 443ms/step - loss: 0.4892 - accuracy: 0.7812\n",
            "Epoch 11/20\n",
            "2/2 [==============================] - 1s 439ms/step - loss: 0.4688 - accuracy: 0.8125\n",
            "Epoch 12/20\n",
            "2/2 [==============================] - 1s 436ms/step - loss: 0.4442 - accuracy: 0.8438\n",
            "Epoch 13/20\n",
            "2/2 [==============================] - 1s 441ms/step - loss: 0.3632 - accuracy: 0.8906\n",
            "Epoch 14/20\n",
            "2/2 [==============================] - 1s 441ms/step - loss: 0.2901 - accuracy: 0.9688\n",
            "Epoch 15/20\n",
            "2/2 [==============================] - 1s 463ms/step - loss: 0.3661 - accuracy: 0.9149\n",
            "Epoch 16/20\n",
            "2/2 [==============================] - 1s 205ms/step - loss: 0.2817 - accuracy: 0.9574\n",
            "Epoch 17/20\n",
            "2/2 [==============================] - 1s 230ms/step - loss: 0.3062 - accuracy: 0.8936\n",
            "Epoch 18/20\n",
            "2/2 [==============================] - 1s 444ms/step - loss: 0.3181 - accuracy: 0.8906\n",
            "Epoch 19/20\n",
            "2/2 [==============================] - 1s 469ms/step - loss: 0.2791 - accuracy: 0.9574\n",
            "Epoch 20/20\n",
            "2/2 [==============================] - 1s 211ms/step - loss: 0.3390 - accuracy: 0.8723\n"
          ]
        }
      ]
    },
    {
      "cell_type": "code",
      "source": [
        "# Testing model\n",
        "predIdxs = model.predict(testX, batch_size=BS)\n",
        "predIdxs = np.argmax(predIdxs, axis=1)\n",
        "print(classification_report(testY.argmax(axis=1), predIdxs,\n",
        "\ttarget_names=lb.classes_))"
      ],
      "metadata": {
        "id": "SBuxza8GMw0V",
        "colab": {
          "base_uri": "https://localhost:8080/"
        },
        "outputId": "e87ed702-21b5-4a3e-ef67-1bfc25858ee2"
      },
      "execution_count": null,
      "outputs": [
        {
          "output_type": "stream",
          "name": "stdout",
          "text": [
            "              precision    recall  f1-score   support\n",
            "\n",
            "        Mask       1.00      0.80      0.89        10\n",
            "      NoMask       0.83      1.00      0.91        10\n",
            "\n",
            "    accuracy                           0.90        20\n",
            "   macro avg       0.92      0.90      0.90        20\n",
            "weighted avg       0.92      0.90      0.90        20\n",
            "\n"
          ]
        }
      ]
    },
    {
      "cell_type": "markdown",
      "source": [
        "CREATE MODEL/CLASSIFIER"
      ],
      "metadata": {
        "id": "m6Am_9dpl7Ab"
      }
    },
    {
      "cell_type": "code",
      "source": [
        "# Simpan model\n",
        "model.save(\"mask_detector.model\", save_format=\"h5\")"
      ],
      "metadata": {
        "colab": {
          "base_uri": "https://localhost:8080/"
        },
        "id": "gh_pPr_EYPON",
        "outputId": "3a12855b-439c-47be-fd99-0339140517b0"
      },
      "execution_count": null,
      "outputs": [
        {
          "output_type": "stream",
          "name": "stderr",
          "text": [
            "/usr/local/lib/python3.7/dist-packages/keras/engine/functional.py:1410: CustomMaskWarning: Custom mask layers require a config and must override get_config. When loading, the custom mask layer must be passed to the custom_objects argument.\n",
            "  layer_config = serialize_layer_fn(layer)\n"
          ]
        }
      ]
    }
  ]
}