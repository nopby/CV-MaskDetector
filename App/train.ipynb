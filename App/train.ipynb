{
  "nbformat": 4,
  "nbformat_minor": 0,
  "metadata": {
    "colab": {
      "name": "train.ipynb",
      "provenance": []
    },
    "kernelspec": {
      "name": "python3",
      "display_name": "Python 3"
    },
    "language_info": {
      "name": "python"
    },
    "accelerator": "GPU"
  },
  "cells": [
    {
      "cell_type": "code",
      "execution_count": null,
      "metadata": {
        "id": "I4_j_uB0B63B"
      },
      "outputs": [],
      "source": [
        "from tensorflow.keras.preprocessing.image import ImageDataGenerator\n",
        "from tensorflow.keras.applications import MobileNetV2\n",
        "from tensorflow.keras.layers import AveragePooling2D\n",
        "from tensorflow.keras.layers import Dropout\n",
        "from tensorflow.keras.layers import Flatten\n",
        "from tensorflow.keras.layers import Dense\n",
        "from tensorflow.keras.layers import Input\n",
        "from tensorflow.keras.models import Model\n",
        "from tensorflow.keras.optimizers import Adam\n",
        "from tensorflow.keras.applications.mobilenet_v2 import preprocess_input\n",
        "from tensorflow.keras.preprocessing.image import img_to_array\n",
        "from tensorflow.keras.preprocessing.image import load_img\n",
        "from tensorflow.keras.utils import to_categorical\n",
        "from sklearn.preprocessing import LabelBinarizer\n",
        "from sklearn.model_selection import train_test_split\n",
        "from sklearn.metrics import classification_report\n",
        "from imutils import paths\n",
        "import matplotlib.pyplot as plt\n",
        "import numpy as np\n",
        "import os\n",
        "from google.colab import drive"
      ]
    },
    {
      "cell_type": "code",
      "source": [
        "drive.mount('/content/drive')"
      ],
      "metadata": {
        "colab": {
          "base_uri": "https://localhost:8080/"
        },
        "id": "sI7xiZqAcLGT",
        "outputId": "db9f1706-f934-4cdc-be3e-caa1a93c2631"
      },
      "execution_count": null,
      "outputs": [
        {
          "output_type": "stream",
          "name": "stdout",
          "text": [
            "Drive already mounted at /content/drive; to attempt to forcibly remount, call drive.mount(\"/content/drive\", force_remount=True).\n"
          ]
        }
      ]
    },
    {
      "cell_type": "code",
      "source": [
        "DIRECTORY = \"/content/drive/MyDrive/Images/Dataset\"\n",
        "CATEGORIES = [\"Mask\", \"NoMask\"]"
      ],
      "metadata": {
        "id": "4oq4Yj3KCCbE"
      },
      "execution_count": null,
      "outputs": []
    },
    {
      "cell_type": "code",
      "source": [
        "INIT_LR = 1e-4\n",
        "EPOCHS = 20\n",
        "BS = 32"
      ],
      "metadata": {
        "id": "27ggijpYCIoZ"
      },
      "execution_count": null,
      "outputs": []
    },
    {
      "cell_type": "code",
      "source": [
        "data = []\n",
        "labels = []\n",
        "\n",
        "for category in CATEGORIES:\n",
        "    path = os.path.join(DIRECTORY, category)\n",
        "    for img in os.listdir(path):\n",
        "    \timg_path = os.path.join(path, img)\n",
        "    \timage = load_img(img_path, target_size=(224, 224))\n",
        "    \timage = img_to_array(image)\n",
        "    \timage = preprocess_input(image)\n",
        "\n",
        "    \tdata.append(image)\n",
        "    \tlabels.append(category)"
      ],
      "metadata": {
        "id": "0DqBIsWvCQLl"
      },
      "execution_count": null,
      "outputs": []
    },
    {
      "cell_type": "code",
      "source": [
        "lb = LabelBinarizer()\n",
        "labels = lb.fit_transform(labels)\n",
        "labels = to_categorical(labels)\n",
        "data = np.array(data, dtype=\"float32\")\n",
        "labels = np.array(labels)"
      ],
      "metadata": {
        "id": "cutDe-zgCR79"
      },
      "execution_count": null,
      "outputs": []
    },
    {
      "cell_type": "code",
      "source": [
        "(trainX, testX, trainY, testY) = train_test_split(data, labels,\n",
        "\ttest_size=0.20, stratify=labels, random_state=42)"
      ],
      "metadata": {
        "id": "BDAFwtwBCUDX"
      },
      "execution_count": null,
      "outputs": []
    },
    {
      "cell_type": "code",
      "source": [
        "aug = ImageDataGenerator(\n",
        "\trotation_range=20,\n",
        "\tzoom_range=0.15,\n",
        "\twidth_shift_range=0.2,\n",
        "\theight_shift_range=0.2,\n",
        "\tshear_range=0.15,\n",
        "\thorizontal_flip=True,\n",
        "\tfill_mode=\"nearest\")"
      ],
      "metadata": {
        "id": "4cUT77DdCV23"
      },
      "execution_count": null,
      "outputs": []
    },
    {
      "cell_type": "code",
      "source": [
        "baseModel = MobileNetV2(weights=\"imagenet\", include_top=False,\n",
        "\tinput_tensor=Input(shape=(224, 224, 3)))"
      ],
      "metadata": {
        "id": "A_pYM9MTCX-p",
        "colab": {
          "base_uri": "https://localhost:8080/"
        },
        "outputId": "89dd1444-3d88-4854-f9fd-c3dac6b67a1c"
      },
      "execution_count": null,
      "outputs": [
        {
          "output_type": "stream",
          "name": "stdout",
          "text": [
            "WARNING:tensorflow:`input_shape` is undefined or non-square, or `rows` is not in [96, 128, 160, 192, 224]. Weights for input shape (224, 224) will be loaded as the default.\n"
          ]
        }
      ]
    },
    {
      "cell_type": "code",
      "source": [
        "headModel = baseModel.output\n",
        "headModel = AveragePooling2D(pool_size=(7, 7))(headModel)\n",
        "headModel = Flatten(name=\"flatten\")(headModel)\n",
        "headModel = Dense(128, activation=\"relu\")(headModel)\n",
        "headModel = Dropout(0.5)(headModel)\n",
        "headModel = Dense(2, activation=\"softmax\")(headModel)\n",
        "model = Model(inputs=baseModel.input, outputs=headModel)"
      ],
      "metadata": {
        "id": "_Yn1qpO5CYpQ"
      },
      "execution_count": null,
      "outputs": []
    },
    {
      "cell_type": "code",
      "source": [
        "for layer in baseModel.layers:\n",
        "\tlayer.trainable = False\n",
        "opt = Adam(lr=INIT_LR, decay=INIT_LR / EPOCHS)\n",
        "model.compile(loss=\"binary_crossentropy\", optimizer=opt,\n",
        "\tmetrics=[\"accuracy\"])"
      ],
      "metadata": {
        "id": "3s_6MvqRCdO7",
        "colab": {
          "base_uri": "https://localhost:8080/"
        },
        "outputId": "d726feed-9c69-4a1e-d71f-46b3e607ff25"
      },
      "execution_count": null,
      "outputs": [
        {
          "output_type": "stream",
          "name": "stderr",
          "text": [
            "/usr/local/lib/python3.7/dist-packages/keras/optimizer_v2/adam.py:105: UserWarning: The `lr` argument is deprecated, use `learning_rate` instead.\n",
            "  super(Adam, self).__init__(name, **kwargs)\n"
          ]
        }
      ]
    },
    {
      "cell_type": "code",
      "source": [
        "H = model.fit(\n",
        "\taug.flow(trainX, trainY, batch_size=BS),\n",
        "\tsteps_per_epoch=len(trainX) // BS,\n",
        "\tvalidation_data=(testX, testY),\n",
        "\tvalidation_steps=len(testX) // BS,\n",
        "\tepochs=EPOCHS)"
      ],
      "metadata": {
        "id": "YVpJEbV0Ch9_",
        "colab": {
          "base_uri": "https://localhost:8080/"
        },
        "outputId": "fccd6e1c-1ce3-42ac-8592-476b0f8b5db6"
      },
      "execution_count": null,
      "outputs": [
        {
          "output_type": "stream",
          "name": "stdout",
          "text": [
            "Epoch 1/20\n",
            "2/2 [==============================] - 4s 534ms/step - loss: 0.8915 - accuracy: 0.5319\n",
            "Epoch 2/20\n",
            "2/2 [==============================] - 1s 200ms/step - loss: 0.7711 - accuracy: 0.5957\n",
            "Epoch 3/20\n",
            "2/2 [==============================] - 1s 450ms/step - loss: 0.6930 - accuracy: 0.6094\n",
            "Epoch 4/20\n",
            "2/2 [==============================] - 1s 206ms/step - loss: 0.7517 - accuracy: 0.6170\n",
            "Epoch 5/20\n",
            "2/2 [==============================] - 1s 187ms/step - loss: 0.7051 - accuracy: 0.5745\n",
            "Epoch 6/20\n",
            "2/2 [==============================] - 1s 197ms/step - loss: 0.6365 - accuracy: 0.6596\n",
            "Epoch 7/20\n",
            "2/2 [==============================] - 1s 201ms/step - loss: 0.5306 - accuracy: 0.7660\n",
            "Epoch 8/20\n",
            "2/2 [==============================] - 1s 211ms/step - loss: 0.5802 - accuracy: 0.7447\n",
            "Epoch 9/20\n",
            "2/2 [==============================] - 1s 483ms/step - loss: 0.5075 - accuracy: 0.8723\n",
            "Epoch 10/20\n",
            "2/2 [==============================] - 1s 191ms/step - loss: 0.5138 - accuracy: 0.7447\n",
            "Epoch 11/20\n",
            "2/2 [==============================] - 1s 461ms/step - loss: 0.4857 - accuracy: 0.8281\n",
            "Epoch 12/20\n",
            "2/2 [==============================] - 1s 454ms/step - loss: 0.5051 - accuracy: 0.8125\n",
            "Epoch 13/20\n",
            "2/2 [==============================] - 1s 414ms/step - loss: 0.4238 - accuracy: 0.9219\n",
            "Epoch 14/20\n",
            "2/2 [==============================] - 1s 415ms/step - loss: 0.4033 - accuracy: 0.9062\n",
            "Epoch 15/20\n",
            "2/2 [==============================] - 1s 467ms/step - loss: 0.3692 - accuracy: 0.8936\n",
            "Epoch 16/20\n",
            "2/2 [==============================] - 1s 200ms/step - loss: 0.3440 - accuracy: 0.9362\n",
            "Epoch 17/20\n",
            "2/2 [==============================] - 1s 445ms/step - loss: 0.3913 - accuracy: 0.9219\n",
            "Epoch 18/20\n",
            "2/2 [==============================] - 1s 462ms/step - loss: 0.3638 - accuracy: 0.9062\n",
            "Epoch 19/20\n",
            "2/2 [==============================] - 1s 450ms/step - loss: 0.3288 - accuracy: 0.9062\n",
            "Epoch 20/20\n",
            "2/2 [==============================] - 1s 436ms/step - loss: 0.3143 - accuracy: 0.9375\n"
          ]
        }
      ]
    },
    {
      "cell_type": "code",
      "source": [
        "predIdxs = model.predict(testX, batch_size=BS)"
      ],
      "metadata": {
        "id": "aMSBn4SvCiyI"
      },
      "execution_count": null,
      "outputs": []
    },
    {
      "cell_type": "code",
      "source": [
        "predIdxs = np.argmax(predIdxs, axis=1)\n",
        "print(classification_report(testY.argmax(axis=1), predIdxs,\n",
        "\ttarget_names=lb.classes_))"
      ],
      "metadata": {
        "id": "gp3EkQxZCkwJ",
        "colab": {
          "base_uri": "https://localhost:8080/"
        },
        "outputId": "f0706a39-9999-4327-f82f-78a534a73d89"
      },
      "execution_count": null,
      "outputs": [
        {
          "output_type": "stream",
          "name": "stdout",
          "text": [
            "              precision    recall  f1-score   support\n",
            "\n",
            "        Mask       1.00      0.60      0.75        10\n",
            "      NoMask       0.71      1.00      0.83        10\n",
            "\n",
            "    accuracy                           0.80        20\n",
            "   macro avg       0.86      0.80      0.79        20\n",
            "weighted avg       0.86      0.80      0.79        20\n",
            "\n"
          ]
        }
      ]
    },
    {
      "cell_type": "code",
      "source": [
        "model.save(\"mask_detector.model\", save_format=\"h5\")"
      ],
      "metadata": {
        "colab": {
          "base_uri": "https://localhost:8080/"
        },
        "id": "gh_pPr_EYPON",
        "outputId": "5b522f89-173f-46d2-b3f3-1a7367069e87"
      },
      "execution_count": null,
      "outputs": [
        {
          "output_type": "stream",
          "name": "stderr",
          "text": [
            "/usr/local/lib/python3.7/dist-packages/keras/engine/functional.py:1410: CustomMaskWarning: Custom mask layers require a config and must override get_config. When loading, the custom mask layer must be passed to the custom_objects argument.\n",
            "  layer_config = serialize_layer_fn(layer)\n"
          ]
        }
      ]
    }
  ]
}